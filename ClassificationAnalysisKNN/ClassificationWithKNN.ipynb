{
 "cells": [
  {
   "cell_type": "code",
   "execution_count": 47,
   "metadata": {
    "scrolled": true
   },
   "outputs": [],
   "source": [
    "# Importing pandas and seaborn libraries for data manipulation and charting\n",
    "import pandas as pd\n",
    "import numpy as np\n",
    "import matplotlib.pyplot as plt"
   ]
  },
  {
   "cell_type": "code",
   "execution_count": 48,
   "metadata": {
    "scrolled": true
   },
   "outputs": [],
   "source": [
    "# Import data from CSV file\n",
    "data = pd.read_csv('churn_clean.csv')"
   ]
  },
  {
   "cell_type": "code",
   "execution_count": 49,
   "metadata": {
    "scrolled": true
   },
   "outputs": [],
   "source": [
    "# Function to clean column names\n",
    "\n",
    "def column_name_remove_space(df):\n",
    "    for x in df.columns:\n",
    "        if \" \" in x:\n",
    "            df = df.rename(columns={x:x.replace(\" \",\"_\").replace(\"(\",\"\")\n",
    "                                    .replace(\")\",\"\").replace(\",\",\"_\").replace(\"/\",\"_\")})\n",
    "    return df\n"
   ]
  },
  {
   "cell_type": "code",
   "execution_count": 50,
   "metadata": {
    "scrolled": true
   },
   "outputs": [],
   "source": [
    "# Renaming columns for the columns related to survey questions\n",
    "data.rename(columns={'Item1':'Timely_response','Item2':'Timely_fixes','Item3':'Timely_replacements',\n",
    "                     'Item4':'Reliability','Item5':'Options','Item6':'Respectful_response',\n",
    "                     'Item7':'Courteous_exchange','Item8':'Evidence_of_active_listening'}, inplace=True)"
   ]
  },
  {
   "cell_type": "code",
   "execution_count": 51,
   "metadata": {
    "scrolled": true
   },
   "outputs": [
    {
     "data": {
      "text/plain": [
       "False"
      ]
     },
     "execution_count": 51,
     "metadata": {},
     "output_type": "execute_result"
    }
   ],
   "source": [
    "# Check for null values\n",
    "data.isna().any(axis=0).any()"
   ]
  },
  {
   "cell_type": "code",
   "execution_count": 52,
   "metadata": {
    "scrolled": true
   },
   "outputs": [
    {
     "data": {
      "text/plain": [
       "CaseOrder                       10000\n",
       "Customer_id                     10000\n",
       "Interaction                     10000\n",
       "UID                             10000\n",
       "City                             6058\n",
       "State                              52\n",
       "County                           1620\n",
       "Zip                              8583\n",
       "Lat                              8563\n",
       "Lng                              8630\n",
       "Population                       5933\n",
       "Area                                3\n",
       "TimeZone                           25\n",
       "Job                               639\n",
       "Children                           11\n",
       "Age                                72\n",
       "Income                           9993\n",
       "Marital                             5\n",
       "Gender                              3\n",
       "Churn                               2\n",
       "Outage_sec_perweek               9986\n",
       "Email                              23\n",
       "Contacts                            8\n",
       "Yearly_equip_failure                6\n",
       "Techie                              2\n",
       "Contract                            3\n",
       "Port_modem                          2\n",
       "Tablet                              2\n",
       "InternetService                     3\n",
       "Phone                               2\n",
       "Multiple                            2\n",
       "OnlineSecurity                      2\n",
       "OnlineBackup                        2\n",
       "DeviceProtection                    2\n",
       "TechSupport                         2\n",
       "StreamingTV                         2\n",
       "StreamingMovies                     2\n",
       "PaperlessBilling                    2\n",
       "PaymentMethod                       4\n",
       "Tenure                           9996\n",
       "MonthlyCharge                     750\n",
       "Bandwidth_GB_Year               10000\n",
       "Timely_response                     7\n",
       "Timely_fixes                        7\n",
       "Timely_replacements                 8\n",
       "Reliability                         7\n",
       "Options                             7\n",
       "Respectful_response                 8\n",
       "Courteous_exchange                  7\n",
       "Evidence_of_active_listening        8\n",
       "dtype: int64"
      ]
     },
     "execution_count": 52,
     "metadata": {},
     "output_type": "execute_result"
    }
   ],
   "source": [
    "# Checking number of unique values in each column\n",
    "data.nunique()"
   ]
  },
  {
   "cell_type": "code",
   "execution_count": 53,
   "metadata": {
    "scrolled": true
   },
   "outputs": [
    {
     "name": "stdout",
     "output_type": "stream",
     "text": [
      "State ['AK', 'AL', 'AR', 'AZ', 'CA', 'CO', 'CT', 'DC', 'DE', 'FL', 'GA', 'HI', 'IA', 'ID', 'IL', 'IN', 'KS', 'KY', 'LA', 'MA', 'MD', 'ME', 'MI', 'MN', 'MO', 'MS', 'MT', 'NC', 'ND', 'NE', 'NH', 'NJ', 'NM', 'NV', 'NY', 'OH', 'OK', 'OR', 'PA', 'PR', 'RI', 'SC', 'SD', 'TN', 'TX', 'UT', 'VA', 'VT', 'WA', 'WI', 'WV', 'WY'] \n",
      "\n",
      "Area ['Rural', 'Suburban', 'Urban'] \n",
      "\n",
      "TimeZone ['America/Anchorage', 'America/Boise', 'America/Chicago', 'America/Denver', 'America/Detroit', 'America/Indiana/Indianapolis', 'America/Indiana/Knox', 'America/Indiana/Marengo', 'America/Indiana/Petersburg', 'America/Indiana/Tell_City', 'America/Indiana/Vincennes', 'America/Indiana/Winamac', 'America/Juneau', 'America/Kentucky/Louisville', 'America/Los_Angeles', 'America/Menominee', 'America/New_York', 'America/Nome', 'America/North_Dakota/New_Salem', 'America/Ojinaga', 'America/Phoenix', 'America/Puerto_Rico', 'America/Sitka', 'America/Toronto', 'Pacific/Honolulu'] \n",
      "\n",
      "Children [0, 1, 2, 3, 4, 5, 6, 7, 8, 9, 10] \n",
      "\n",
      "Age [18, 19, 20, 21, 22, 23, 24, 25, 26, 27, 28, 29, 30, 31, 32, 33, 34, 35, 36, 37, 38, 39, 40, 41, 42, 43, 44, 45, 46, 47, 48, 49, 50, 51, 52, 53, 54, 55, 56, 57, 58, 59, 60, 61, 62, 63, 64, 65, 66, 67, 68, 69, 70, 71, 72, 73, 74, 75, 76, 77, 78, 79, 80, 81, 82, 83, 84, 85, 86, 87, 88, 89] \n",
      "\n",
      "Marital ['Divorced', 'Married', 'Never Married', 'Separated', 'Widowed'] \n",
      "\n",
      "Gender ['Female', 'Male', 'Nonbinary'] \n",
      "\n",
      "Churn ['No', 'Yes'] \n",
      "\n",
      "Email [1, 2, 3, 4, 5, 6, 7, 8, 9, 10, 11, 12, 13, 14, 15, 16, 17, 18, 19, 20, 21, 22, 23] \n",
      "\n",
      "Contacts [0, 1, 2, 3, 4, 5, 6, 7] \n",
      "\n",
      "Yearly_equip_failure [0, 1, 2, 3, 4, 6] \n",
      "\n",
      "Techie ['No', 'Yes'] \n",
      "\n",
      "Contract ['Month-to-month', 'One year', 'Two Year'] \n",
      "\n",
      "Port_modem ['No', 'Yes'] \n",
      "\n",
      "Tablet ['No', 'Yes'] \n",
      "\n",
      "InternetService ['DSL', 'Fiber Optic', 'None'] \n",
      "\n",
      "Phone ['No', 'Yes'] \n",
      "\n",
      "Multiple ['No', 'Yes'] \n",
      "\n",
      "OnlineSecurity ['No', 'Yes'] \n",
      "\n",
      "OnlineBackup ['No', 'Yes'] \n",
      "\n",
      "DeviceProtection ['No', 'Yes'] \n",
      "\n",
      "TechSupport ['No', 'Yes'] \n",
      "\n",
      "StreamingTV ['No', 'Yes'] \n",
      "\n",
      "StreamingMovies ['No', 'Yes'] \n",
      "\n",
      "PaperlessBilling ['No', 'Yes'] \n",
      "\n",
      "PaymentMethod ['Bank Transfer(automatic)', 'Credit Card (automatic)', 'Electronic Check', 'Mailed Check'] \n",
      "\n",
      "Timely_response [1, 2, 3, 4, 5, 6, 7] \n",
      "\n",
      "Timely_fixes [1, 2, 3, 4, 5, 6, 7] \n",
      "\n",
      "Timely_replacements [1, 2, 3, 4, 5, 6, 7, 8] \n",
      "\n",
      "Reliability [1, 2, 3, 4, 5, 6, 7] \n",
      "\n",
      "Options [1, 2, 3, 4, 5, 6, 7] \n",
      "\n",
      "Respectful_response [1, 2, 3, 4, 5, 6, 7, 8] \n",
      "\n",
      "Courteous_exchange [1, 2, 3, 4, 5, 6, 7] \n",
      "\n",
      "Evidence_of_active_listening [1, 2, 3, 4, 5, 6, 7, 8] \n",
      "\n"
     ]
    }
   ],
   "source": [
    "# Check all the unique values for all the columns having less than 100 unique values\n",
    "# Avoiding the value prints for those columns which have large number of unique values like zipcode or counties etc.\n",
    "\n",
    "for col in data.columns:\n",
    "    if data[col].nunique()<100:\n",
    "        print(col, sorted(data[col].unique()), '\\n')\n"
   ]
  },
  {
   "cell_type": "code",
   "execution_count": 54,
   "metadata": {
    "scrolled": true
   },
   "outputs": [],
   "source": [
    "# Following data columns are not important for data analysis (more details included in the report)\n",
    "to_drop = ['City','County','Zip','Job','TimeZone',\n",
    "          'Lat','Lng','UID', 'Customer_id','Interaction','CaseOrder','State']"
   ]
  },
  {
   "cell_type": "code",
   "execution_count": 55,
   "metadata": {
    "scrolled": true
   },
   "outputs": [],
   "source": [
    "# Fix all columns\n",
    "data = column_name_remove_space(data)\n",
    "data.drop(columns=to_drop,inplace=True)"
   ]
  },
  {
   "cell_type": "code",
   "execution_count": 56,
   "metadata": {
    "scrolled": true
   },
   "outputs": [
    {
     "data": {
      "text/html": [
       "<div>\n",
       "<style scoped>\n",
       "    .dataframe tbody tr th:only-of-type {\n",
       "        vertical-align: middle;\n",
       "    }\n",
       "\n",
       "    .dataframe tbody tr th {\n",
       "        vertical-align: top;\n",
       "    }\n",
       "\n",
       "    .dataframe thead th {\n",
       "        text-align: right;\n",
       "    }\n",
       "</style>\n",
       "<table border=\"1\" class=\"dataframe\">\n",
       "  <thead>\n",
       "    <tr style=\"text-align: right;\">\n",
       "      <th></th>\n",
       "      <th>Population</th>\n",
       "      <th>Area</th>\n",
       "      <th>Children</th>\n",
       "      <th>Age</th>\n",
       "      <th>Income</th>\n",
       "      <th>Marital</th>\n",
       "      <th>Gender</th>\n",
       "      <th>Churn</th>\n",
       "      <th>Outage_sec_perweek</th>\n",
       "      <th>Email</th>\n",
       "      <th>...</th>\n",
       "      <th>MonthlyCharge</th>\n",
       "      <th>Bandwidth_GB_Year</th>\n",
       "      <th>Timely_response</th>\n",
       "      <th>Timely_fixes</th>\n",
       "      <th>Timely_replacements</th>\n",
       "      <th>Reliability</th>\n",
       "      <th>Options</th>\n",
       "      <th>Respectful_response</th>\n",
       "      <th>Courteous_exchange</th>\n",
       "      <th>Evidence_of_active_listening</th>\n",
       "    </tr>\n",
       "  </thead>\n",
       "  <tbody>\n",
       "    <tr>\n",
       "      <th>0</th>\n",
       "      <td>38</td>\n",
       "      <td>Urban</td>\n",
       "      <td>0</td>\n",
       "      <td>68</td>\n",
       "      <td>28561.99</td>\n",
       "      <td>Widowed</td>\n",
       "      <td>Male</td>\n",
       "      <td>No</td>\n",
       "      <td>7.978323</td>\n",
       "      <td>10</td>\n",
       "      <td>...</td>\n",
       "      <td>172.455519</td>\n",
       "      <td>904.536110</td>\n",
       "      <td>5</td>\n",
       "      <td>5</td>\n",
       "      <td>5</td>\n",
       "      <td>3</td>\n",
       "      <td>4</td>\n",
       "      <td>4</td>\n",
       "      <td>3</td>\n",
       "      <td>4</td>\n",
       "    </tr>\n",
       "    <tr>\n",
       "      <th>1</th>\n",
       "      <td>10446</td>\n",
       "      <td>Urban</td>\n",
       "      <td>1</td>\n",
       "      <td>27</td>\n",
       "      <td>21704.77</td>\n",
       "      <td>Married</td>\n",
       "      <td>Female</td>\n",
       "      <td>Yes</td>\n",
       "      <td>11.699080</td>\n",
       "      <td>12</td>\n",
       "      <td>...</td>\n",
       "      <td>242.632554</td>\n",
       "      <td>800.982766</td>\n",
       "      <td>3</td>\n",
       "      <td>4</td>\n",
       "      <td>3</td>\n",
       "      <td>3</td>\n",
       "      <td>4</td>\n",
       "      <td>3</td>\n",
       "      <td>4</td>\n",
       "      <td>4</td>\n",
       "    </tr>\n",
       "    <tr>\n",
       "      <th>2</th>\n",
       "      <td>3735</td>\n",
       "      <td>Urban</td>\n",
       "      <td>4</td>\n",
       "      <td>50</td>\n",
       "      <td>9609.57</td>\n",
       "      <td>Widowed</td>\n",
       "      <td>Female</td>\n",
       "      <td>No</td>\n",
       "      <td>10.752800</td>\n",
       "      <td>9</td>\n",
       "      <td>...</td>\n",
       "      <td>159.947583</td>\n",
       "      <td>2054.706961</td>\n",
       "      <td>4</td>\n",
       "      <td>4</td>\n",
       "      <td>2</td>\n",
       "      <td>4</td>\n",
       "      <td>4</td>\n",
       "      <td>3</td>\n",
       "      <td>3</td>\n",
       "      <td>3</td>\n",
       "    </tr>\n",
       "    <tr>\n",
       "      <th>3</th>\n",
       "      <td>13863</td>\n",
       "      <td>Suburban</td>\n",
       "      <td>1</td>\n",
       "      <td>48</td>\n",
       "      <td>18925.23</td>\n",
       "      <td>Married</td>\n",
       "      <td>Male</td>\n",
       "      <td>No</td>\n",
       "      <td>14.913540</td>\n",
       "      <td>15</td>\n",
       "      <td>...</td>\n",
       "      <td>119.956840</td>\n",
       "      <td>2164.579412</td>\n",
       "      <td>4</td>\n",
       "      <td>4</td>\n",
       "      <td>4</td>\n",
       "      <td>2</td>\n",
       "      <td>5</td>\n",
       "      <td>4</td>\n",
       "      <td>3</td>\n",
       "      <td>3</td>\n",
       "    </tr>\n",
       "    <tr>\n",
       "      <th>4</th>\n",
       "      <td>11352</td>\n",
       "      <td>Suburban</td>\n",
       "      <td>0</td>\n",
       "      <td>83</td>\n",
       "      <td>40074.19</td>\n",
       "      <td>Separated</td>\n",
       "      <td>Male</td>\n",
       "      <td>Yes</td>\n",
       "      <td>8.147417</td>\n",
       "      <td>16</td>\n",
       "      <td>...</td>\n",
       "      <td>149.948316</td>\n",
       "      <td>271.493436</td>\n",
       "      <td>4</td>\n",
       "      <td>4</td>\n",
       "      <td>4</td>\n",
       "      <td>3</td>\n",
       "      <td>4</td>\n",
       "      <td>4</td>\n",
       "      <td>4</td>\n",
       "      <td>5</td>\n",
       "    </tr>\n",
       "  </tbody>\n",
       "</table>\n",
       "<p>5 rows × 38 columns</p>\n",
       "</div>"
      ],
      "text/plain": [
       "   Population      Area  Children  Age    Income    Marital  Gender Churn  \\\n",
       "0          38     Urban         0   68  28561.99    Widowed    Male    No   \n",
       "1       10446     Urban         1   27  21704.77    Married  Female   Yes   \n",
       "2        3735     Urban         4   50   9609.57    Widowed  Female    No   \n",
       "3       13863  Suburban         1   48  18925.23    Married    Male    No   \n",
       "4       11352  Suburban         0   83  40074.19  Separated    Male   Yes   \n",
       "\n",
       "   Outage_sec_perweek  Email  ...  MonthlyCharge  Bandwidth_GB_Year  \\\n",
       "0            7.978323     10  ...     172.455519         904.536110   \n",
       "1           11.699080     12  ...     242.632554         800.982766   \n",
       "2           10.752800      9  ...     159.947583        2054.706961   \n",
       "3           14.913540     15  ...     119.956840        2164.579412   \n",
       "4            8.147417     16  ...     149.948316         271.493436   \n",
       "\n",
       "  Timely_response Timely_fixes Timely_replacements Reliability Options  \\\n",
       "0               5            5                   5           3       4   \n",
       "1               3            4                   3           3       4   \n",
       "2               4            4                   2           4       4   \n",
       "3               4            4                   4           2       5   \n",
       "4               4            4                   4           3       4   \n",
       "\n",
       "  Respectful_response Courteous_exchange Evidence_of_active_listening  \n",
       "0                   4                  3                            4  \n",
       "1                   3                  4                            4  \n",
       "2                   3                  3                            3  \n",
       "3                   4                  3                            3  \n",
       "4                   4                  4                            5  \n",
       "\n",
       "[5 rows x 38 columns]"
      ]
     },
     "execution_count": 56,
     "metadata": {},
     "output_type": "execute_result"
    }
   ],
   "source": [
    "# Check data by printing first few rows\n",
    "data.head()"
   ]
  },
  {
   "cell_type": "code",
   "execution_count": 57,
   "metadata": {
    "scrolled": true
   },
   "outputs": [
    {
     "data": {
      "text/html": [
       "<div>\n",
       "<style scoped>\n",
       "    .dataframe tbody tr th:only-of-type {\n",
       "        vertical-align: middle;\n",
       "    }\n",
       "\n",
       "    .dataframe tbody tr th {\n",
       "        vertical-align: top;\n",
       "    }\n",
       "\n",
       "    .dataframe thead th {\n",
       "        text-align: right;\n",
       "    }\n",
       "</style>\n",
       "<table border=\"1\" class=\"dataframe\">\n",
       "  <thead>\n",
       "    <tr style=\"text-align: right;\">\n",
       "      <th></th>\n",
       "      <th>Population</th>\n",
       "      <th>Area</th>\n",
       "      <th>Children</th>\n",
       "      <th>Age</th>\n",
       "      <th>Income</th>\n",
       "      <th>Marital</th>\n",
       "      <th>Gender</th>\n",
       "      <th>Churn</th>\n",
       "      <th>Outage_sec_perweek</th>\n",
       "      <th>Email</th>\n",
       "      <th>...</th>\n",
       "      <th>MonthlyCharge</th>\n",
       "      <th>Bandwidth_GB_Year</th>\n",
       "      <th>Timely_response</th>\n",
       "      <th>Timely_fixes</th>\n",
       "      <th>Timely_replacements</th>\n",
       "      <th>Reliability</th>\n",
       "      <th>Options</th>\n",
       "      <th>Respectful_response</th>\n",
       "      <th>Courteous_exchange</th>\n",
       "      <th>Evidence_of_active_listening</th>\n",
       "    </tr>\n",
       "  </thead>\n",
       "  <tbody>\n",
       "    <tr>\n",
       "      <th>9995</th>\n",
       "      <td>640</td>\n",
       "      <td>Rural</td>\n",
       "      <td>3</td>\n",
       "      <td>23</td>\n",
       "      <td>55723.74</td>\n",
       "      <td>Married</td>\n",
       "      <td>Male</td>\n",
       "      <td>No</td>\n",
       "      <td>9.415935</td>\n",
       "      <td>12</td>\n",
       "      <td>...</td>\n",
       "      <td>159.9794</td>\n",
       "      <td>6511.252601</td>\n",
       "      <td>3</td>\n",
       "      <td>2</td>\n",
       "      <td>3</td>\n",
       "      <td>3</td>\n",
       "      <td>4</td>\n",
       "      <td>3</td>\n",
       "      <td>2</td>\n",
       "      <td>3</td>\n",
       "    </tr>\n",
       "    <tr>\n",
       "      <th>9996</th>\n",
       "      <td>77168</td>\n",
       "      <td>Rural</td>\n",
       "      <td>4</td>\n",
       "      <td>48</td>\n",
       "      <td>34129.34</td>\n",
       "      <td>Divorced</td>\n",
       "      <td>Male</td>\n",
       "      <td>No</td>\n",
       "      <td>6.740547</td>\n",
       "      <td>15</td>\n",
       "      <td>...</td>\n",
       "      <td>207.4811</td>\n",
       "      <td>5695.951810</td>\n",
       "      <td>4</td>\n",
       "      <td>5</td>\n",
       "      <td>5</td>\n",
       "      <td>4</td>\n",
       "      <td>4</td>\n",
       "      <td>5</td>\n",
       "      <td>2</td>\n",
       "      <td>5</td>\n",
       "    </tr>\n",
       "    <tr>\n",
       "      <th>9997</th>\n",
       "      <td>406</td>\n",
       "      <td>Rural</td>\n",
       "      <td>1</td>\n",
       "      <td>48</td>\n",
       "      <td>45983.43</td>\n",
       "      <td>Never Married</td>\n",
       "      <td>Female</td>\n",
       "      <td>No</td>\n",
       "      <td>6.590911</td>\n",
       "      <td>10</td>\n",
       "      <td>...</td>\n",
       "      <td>169.9741</td>\n",
       "      <td>4159.305799</td>\n",
       "      <td>4</td>\n",
       "      <td>4</td>\n",
       "      <td>4</td>\n",
       "      <td>4</td>\n",
       "      <td>4</td>\n",
       "      <td>4</td>\n",
       "      <td>4</td>\n",
       "      <td>5</td>\n",
       "    </tr>\n",
       "    <tr>\n",
       "      <th>9998</th>\n",
       "      <td>35575</td>\n",
       "      <td>Urban</td>\n",
       "      <td>1</td>\n",
       "      <td>39</td>\n",
       "      <td>16667.58</td>\n",
       "      <td>Separated</td>\n",
       "      <td>Male</td>\n",
       "      <td>No</td>\n",
       "      <td>12.071910</td>\n",
       "      <td>14</td>\n",
       "      <td>...</td>\n",
       "      <td>252.6240</td>\n",
       "      <td>6468.456752</td>\n",
       "      <td>4</td>\n",
       "      <td>4</td>\n",
       "      <td>6</td>\n",
       "      <td>4</td>\n",
       "      <td>3</td>\n",
       "      <td>3</td>\n",
       "      <td>5</td>\n",
       "      <td>4</td>\n",
       "    </tr>\n",
       "    <tr>\n",
       "      <th>9999</th>\n",
       "      <td>12230</td>\n",
       "      <td>Urban</td>\n",
       "      <td>1</td>\n",
       "      <td>28</td>\n",
       "      <td>9020.92</td>\n",
       "      <td>Never Married</td>\n",
       "      <td>Male</td>\n",
       "      <td>No</td>\n",
       "      <td>11.754720</td>\n",
       "      <td>17</td>\n",
       "      <td>...</td>\n",
       "      <td>217.4840</td>\n",
       "      <td>5857.586167</td>\n",
       "      <td>2</td>\n",
       "      <td>2</td>\n",
       "      <td>3</td>\n",
       "      <td>3</td>\n",
       "      <td>3</td>\n",
       "      <td>3</td>\n",
       "      <td>4</td>\n",
       "      <td>1</td>\n",
       "    </tr>\n",
       "  </tbody>\n",
       "</table>\n",
       "<p>5 rows × 38 columns</p>\n",
       "</div>"
      ],
      "text/plain": [
       "      Population   Area  Children  Age    Income        Marital  Gender Churn  \\\n",
       "9995         640  Rural         3   23  55723.74        Married    Male    No   \n",
       "9996       77168  Rural         4   48  34129.34       Divorced    Male    No   \n",
       "9997         406  Rural         1   48  45983.43  Never Married  Female    No   \n",
       "9998       35575  Urban         1   39  16667.58      Separated    Male    No   \n",
       "9999       12230  Urban         1   28   9020.92  Never Married    Male    No   \n",
       "\n",
       "      Outage_sec_perweek  Email  ...  MonthlyCharge  Bandwidth_GB_Year  \\\n",
       "9995            9.415935     12  ...       159.9794        6511.252601   \n",
       "9996            6.740547     15  ...       207.4811        5695.951810   \n",
       "9997            6.590911     10  ...       169.9741        4159.305799   \n",
       "9998           12.071910     14  ...       252.6240        6468.456752   \n",
       "9999           11.754720     17  ...       217.4840        5857.586167   \n",
       "\n",
       "     Timely_response Timely_fixes Timely_replacements Reliability Options  \\\n",
       "9995               3            2                   3           3       4   \n",
       "9996               4            5                   5           4       4   \n",
       "9997               4            4                   4           4       4   \n",
       "9998               4            4                   6           4       3   \n",
       "9999               2            2                   3           3       3   \n",
       "\n",
       "     Respectful_response Courteous_exchange Evidence_of_active_listening  \n",
       "9995                   3                  2                            3  \n",
       "9996                   5                  2                            5  \n",
       "9997                   4                  4                            5  \n",
       "9998                   3                  5                            4  \n",
       "9999                   3                  4                            1  \n",
       "\n",
       "[5 rows x 38 columns]"
      ]
     },
     "execution_count": 57,
     "metadata": {},
     "output_type": "execute_result"
    }
   ],
   "source": [
    "# Check data by printing last few rows\n",
    "data.tail()"
   ]
  },
  {
   "cell_type": "code",
   "execution_count": 58,
   "metadata": {
    "scrolled": true
   },
   "outputs": [],
   "source": [
    "# Following columns have categorical data types and they need to be converted to dummy variables\n",
    "dummy_variable_columns = [\n",
    "                          'Churn','Area','Marital','Gender','Techie','Contract','Port_modem','Tablet',\n",
    "                         'InternetService','Phone', 'Multiple','OnlineSecurity','OnlineBackup',\n",
    "                          'DeviceProtection','TechSupport', 'StreamingTV','StreamingMovies',\n",
    "                          'PaperlessBilling','PaymentMethod'\n",
    "                         ]\n",
    "\n",
    "\n",
    "# Following columns have continuous numerical data, which needs to be scaled before predictive model can be created.\n",
    "# Hence, these columns will be transformed to normalized form.\n",
    "\n",
    "to_transform = ['Population','Children','Age','Income','Outage_sec_perweek','Email',\n",
    "                'Contacts','Yearly_equip_failure','Tenure',\n",
    "                'MonthlyCharge','Bandwidth_GB_Year',\n",
    "                'Timely_response','Timely_fixes','Timely_replacements',\n",
    "                'Reliability','Options',\n",
    "                'Respectful_response','Courteous_exchange',\n",
    "                'Evidence_of_active_listening'\n",
    "               ]\n",
    "\n",
    "dummy_data_file_index = 0"
   ]
  },
  {
   "cell_type": "code",
   "execution_count": 59,
   "metadata": {
    "scrolled": true
   },
   "outputs": [],
   "source": [
    "from sklearn.preprocessing import MinMaxScaler\n",
    "\n",
    "def get_dummy_data_with_output(dummy_variable_columns, data):\n",
    "    global dummy_data_file_index\n",
    "    dummy_data = pd.get_dummies(data, prefix=dummy_variable_columns, columns=dummy_variable_columns, drop_first= True)\n",
    "    dummy_data = column_name_remove_space(dummy_data)\n",
    "    dummy_data.to_csv('dummy_var_data'+str(dummy_data_file_index)+'.csv', index=False)\n",
    "    y = dummy_data['Churn_Yes']\n",
    "    dummy_data.drop(columns=['Churn_Yes'], inplace=True)\n",
    "    sc = MinMaxScaler()\n",
    "    dummy_data.loc[:,to_transform] = sc.fit_transform(dummy_data.loc[:,to_transform])\n",
    "    dummy_data_file_index += 1\n",
    "    return y, dummy_data\n",
    "\n",
    "y, X = get_dummy_data_with_output(dummy_variable_columns, data)"
   ]
  },
  {
   "cell_type": "code",
   "execution_count": 60,
   "metadata": {
    "scrolled": true
   },
   "outputs": [],
   "source": [
    "# Starting with imports\n",
    "\n",
    "from sklearn.model_selection import train_test_split\n",
    "from sklearn.linear_model import LogisticRegression\n",
    "from sklearn.metrics import confusion_matrix, accuracy_score, classification_report\n",
    "from sklearn.neighbors import KNeighborsClassifier\n",
    "from sklearn.metrics import roc_curve\n",
    "from sklearn.metrics import roc_auc_score"
   ]
  },
  {
   "cell_type": "code",
   "execution_count": 61,
   "metadata": {
    "scrolled": true
   },
   "outputs": [],
   "source": [
    "# Split the training and test set 7:3 \n",
    "X_train, X_test, y_train, y_test = train_test_split(X,y,test_size=.3, random_state=0)"
   ]
  },
  {
   "cell_type": "code",
   "execution_count": 62,
   "metadata": {
    "scrolled": true
   },
   "outputs": [],
   "source": [
    "# Creating reusable functions to create prediction models and print their performance measures\n",
    "\n",
    "# Function to plot confusion matrix\n",
    "def confusion_matrix_plot(y_test, y_pred):\n",
    "    plt.matshow(confusion_matrix(y_test, y_pred))\n",
    "    plt.title('Confusion matrix')\n",
    "    plt.colorbar()\n",
    "    plt.ylabel('True label')\n",
    "    plt.xlabel('Predicted label')\n",
    "    plt.grid(b=None)\n",
    "    plt.show()\n",
    "\n",
    "# Function to create KNN model with default parameters\n",
    "def get_knn_model(y_train,X_train, X_test):\n",
    "    model = KNeighborsClassifier(n_jobs=-1)\n",
    "    model.fit(X_train, y_train)\n",
    "    print(model.get_params())\n",
    "    y_pred = list(map(round, model.predict(X_test)))\n",
    "    arr = np.c_[y_pred, y_test]\n",
    "    print('\\nPrinting predicted and actual values:\\n',arr)\n",
    "    print('Confusion Matrix \\n',confusion_matrix(y_test, y_pred))\n",
    "    print('Accuracy Score: ',accuracy_score(y_test, y_pred))\n",
    "    confusion_matrix_plot(y_test, y_pred)\n",
    "    return model, arr\n",
    "\n",
    "# Creating a function to create prediction model for Logistic Regression\n",
    "def get_lr_model(y_train,X_train, X_test):\n",
    "    model = LogisticRegression(max_iter=100000000)\n",
    "    model.fit(X_train, y_train)\n",
    "    arr = np.c_[X_train.columns.tolist(),model.coef_[0]]\n",
    "    intercept = model.intercept_[0]\n",
    "    print('\\nPrinting model coefficients and intercept summary for sklearn model:\\n',arr, model.intercept_)\n",
    "    y_pred = model.predict(X_test)\n",
    "    print('\\nPrinting predicted and actual values from sklearn:\\n',np.c_[y_pred, y_test])\n",
    "    print('Confusion Matrix from sklearn\\n',confusion_matrix(y_test, y_pred))\n",
    "    print('Accuracy Scores from sklearn:\\n',accuracy_score(y_test, y_pred))\n",
    "    print('Classification Report from sklearn:\\n',classification_report(y_test, y_pred))\n",
    "    confusion_matrix_plot(y_test, y_pred)\n",
    "    return model, arr, intercept\n",
    "\n",
    "\n",
    "# Function to create AUC chart and print AUC score.\n",
    "def roc(model, X_test, y_test):\n",
    "    probs = model.predict_proba(X_test)\n",
    "    fpr, tpr, _ = roc_curve(y_test, probs[:,1])\n",
    "    plt.plot(fpr, tpr, marker='.')\n",
    "    plt.xlabel('False Positive Rate')\n",
    "    plt.ylabel('True Positive Rate')\n",
    "    plt.show()\n",
    "    print('AUC: %.3f' % roc_auc_score(y_test, probs[:,1]))\n",
    "\n",
    "# Function to create AUC Charts for multiple models\n",
    "def roc_multi(models, X_test, y_test):\n",
    "    for model in models:\n",
    "        probs = models[model].predict_proba(X_test)\n",
    "        fpr, tpr, _ = roc_curve(y_test, probs[:,1])\n",
    "        plt.plot(fpr, tpr, marker='.', label=model)\n",
    "    plt.xlabel('False Positive Rate')\n",
    "    plt.ylabel('True Positive Rate')\n",
    "    plt.legend(loc=\"upper right\")\n",
    "    plt.show()\n"
   ]
  },
  {
   "cell_type": "code",
   "execution_count": 63,
   "metadata": {
    "scrolled": false
   },
   "outputs": [
    {
     "name": "stdout",
     "output_type": "stream",
     "text": [
      "{'algorithm': 'auto', 'leaf_size': 30, 'metric': 'minkowski', 'metric_params': None, 'n_jobs': -1, 'n_neighbors': 5, 'p': 2, 'weights': 'uniform'}\n",
      "\n",
      "Printing predicted and actual values:\n",
      " [[0 0]\n",
      " [0 0]\n",
      " [1 1]\n",
      " ...\n",
      " [0 0]\n",
      " [0 0]\n",
      " [0 0]]\n",
      "Confusion Matrix \n",
      " [[2025  176]\n",
      " [ 347  452]]\n",
      "Accuracy Score:  0.8256666666666667\n"
     ]
    },
    {
     "data": {
      "image/png": "[encoded data removed]",
      "text/plain": [
       "<Figure size 288x288 with 2 Axes>"
      ]
     },
     "metadata": {
      "needs_background": "light"
     },
     "output_type": "display_data"
    },
    {
     "data": {
      "image/png": "[encoded data removed]",
      "text/plain": [
       "<Figure size 432x288 with 1 Axes>"
      ]
     },
     "metadata": {
      "needs_background": "light"
     },
     "output_type": "display_data"
    },
    {
     "name": "stdout",
     "output_type": "stream",
     "text": [
      "AUC: 0.851\n",
      "\n",
      "Printing model coefficients and intercept summary for sklearn model:\n",
      " [['Population' '-0.3571353119248265']\n",
      " ['Children' '0.14907969150988956']\n",
      " ['Age' '-0.1957807870726397']\n",
      " ['Income' '0.1076751391461641']\n",
      " ['Outage_sec_perweek' '-0.08163654038717752']\n",
      " ['Email' '-0.21549185658406636']\n",
      " ['Contacts' '0.5218700762367565']\n",
      " ['Yearly_equip_failure' '0.012739510504345256']\n",
      " ['Tenure' '-4.90294623047516']\n",
      " ['MonthlyCharge' '4.375491552759035']\n",
      " ['Bandwidth_GB_Year' '-3.4205510412521187']\n",
      " ['Timely_response' '-0.3870986164698337']\n",
      " ['Timely_fixes' '0.142830830877891']\n",
      " ['Timely_replacements' '0.2971629694860255']\n",
      " ['Reliability' '0.036733654398256176']\n",
      " ['Options' '-0.17987765343620193']\n",
      " ['Respectful_response' '-0.09405837772551577']\n",
      " ['Courteous_exchange' '-0.026359416986186164']\n",
      " ['Evidence_of_active_listening' '0.15997071456750983']\n",
      " ['Area_Suburban' '-0.040335033513940674']\n",
      " ['Area_Urban' '0.19243417754858205']\n",
      " ['Marital_Married' '0.09668817898557164']\n",
      " ['Marital_Never_Married' '0.18046312306096723']\n",
      " ['Marital_Separated' '0.15082295733779033']\n",
      " ['Marital_Widowed' '0.22833415569269666']\n",
      " ['Gender_Male' '0.16349356158369596']\n",
      " ['Gender_Nonbinary' '0.07205182935764542']\n",
      " ['Techie_Yes' '1.0812847376967936']\n",
      " ['Contract_One_year' '-3.2422794446483865']\n",
      " ['Contract_Two_Year' '-3.313177177432457']\n",
      " ['Port_modem_Yes' '0.14467642962270846']\n",
      " ['Tablet_Yes' '-0.029018336445086765']\n",
      " ['InternetService_Fiber_Optic' '-1.8180170448515696']\n",
      " ['InternetService_None' '-1.3016380874177822']\n",
      " ['Phone_Yes' '-0.39900157709914735']\n",
      " ['Multiple_Yes' '0.9635077265783935']\n",
      " ['OnlineSecurity_Yes' '-0.16470738868701687']\n",
      " ['OnlineBackup_Yes' '0.4228797650124102']\n",
      " ['DeviceProtection_Yes' '0.2754474880327922']\n",
      " ['TechSupport_Yes' '0.004429523631386948']\n",
      " ['StreamingTV_Yes' '2.0716760821966416']\n",
      " ['StreamingMovies_Yes' '2.280038733554604']\n",
      " ['PaperlessBilling_Yes' '0.1599831498400422']\n",
      " ['PaymentMethod_Credit_Card_automatic' '0.24546589112748057']\n",
      " ['PaymentMethod_Electronic_Check' '0.6151133695986207']\n",
      " ['PaymentMethod_Mailed_Check' '0.22612307576997687']] [-1.67041361]\n",
      "\n",
      "Printing predicted and actual values from sklearn:\n",
      " [[0 0]\n",
      " [0 0]\n",
      " [1 1]\n",
      " ...\n",
      " [0 0]\n",
      " [0 0]\n",
      " [0 0]]\n",
      "Confusion Matrix from sklearn\n",
      " [[2052  149]\n",
      " [ 164  635]]\n",
      "Accuracy Scores from sklearn:\n",
      " 0.8956666666666667\n",
      "Classification Report from sklearn:\n",
      "               precision    recall  f1-score   support\n",
      "\n",
      "           0       0.93      0.93      0.93      2201\n",
      "           1       0.81      0.79      0.80       799\n",
      "\n",
      "    accuracy                           0.90      3000\n",
      "   macro avg       0.87      0.86      0.87      3000\n",
      "weighted avg       0.90      0.90      0.90      3000\n",
      "\n"
     ]
    },
    {
     "data": {
      "image/png": "[encoded data removed]",
      "text/plain": [
       "<Figure size 288x288 with 2 Axes>"
      ]
     },
     "metadata": {
      "needs_background": "light"
     },
     "output_type": "display_data"
    },
    {
     "data": {
      "image/png": "[encoded data removed]",
      "text/plain": [
       "<Figure size 432x288 with 1 Axes>"
      ]
     },
     "metadata": {
      "needs_background": "light"
     },
     "output_type": "display_data"
    },
    {
     "name": "stdout",
     "output_type": "stream",
     "text": [
      "AUC: 0.956\n"
     ]
    }
   ],
   "source": [
    "# Run knn model\n",
    "model_knn, arr_knn = get_knn_model(y_train,X_train, X_test);\n",
    "roc(model_knn, X_test, y_test);\n",
    "# Run logistic regression model\n",
    "model_lr, arr, intercept = get_lr_model(y_train,X_train, X_test);\n",
    "roc(model_lr, X_test, y_test);"
   ]
  },
  {
   "cell_type": "code",
   "execution_count": 64,
   "metadata": {},
   "outputs": [
    {
     "name": "stdout",
     "output_type": "stream",
     "text": [
      "{'algorithm': 'auto', 'leaf_size': 30, 'metric': 'minkowski', 'metric_params': None, 'n_jobs': -1, 'n_neighbors': 5, 'p': 1, 'weights': 'uniform'}\n",
      "\n",
      "Printing predicted and actual values:\n",
      " [[0 0]\n",
      " [0 0]\n",
      " [1 1]\n",
      " ...\n",
      " [0 0]\n",
      " [0 0]\n",
      " [0 0]]\n",
      "Confusion Matrix \n",
      " [[2024  177]\n",
      " [ 322  477]]\n",
      "Accuracy Score:  0.8336666666666667\n"
     ]
    },
    {
     "data": {
      "image/png": "[encoded data removed]",
      "text/plain": [
       "<Figure size 432x288 with 1 Axes>"
      ]
     },
     "metadata": {
      "needs_background": "light"
     },
     "output_type": "display_data"
    },
    {
     "name": "stdout",
     "output_type": "stream",
     "text": [
      "AUC: 0.864\n"
     ]
    }
   ],
   "source": [
    "model = KNeighborsClassifier(n_jobs=-1, p=1)\n",
    "model.fit(X_train, y_train)\n",
    "print(model.get_params())\n",
    "y_pred = list(map(round, model.predict(X_test)))\n",
    "arr = np.c_[y_pred, y_test]\n",
    "print('\\nPrinting predicted and actual values:\\n',arr)\n",
    "print('Confusion Matrix \\n',confusion_matrix(y_test, y_pred))\n",
    "print('Accuracy Score: ',accuracy_score(y_test, y_pred))\n",
    "roc(model, X_test, y_test);"
   ]
  },
  {
   "cell_type": "code",
   "execution_count": 65,
   "metadata": {},
   "outputs": [
    {
     "name": "stdout",
     "output_type": "stream",
     "text": [
      "{'algorithm': 'auto', 'leaf_size': 1, 'metric': 'minkowski', 'metric_params': None, 'n_jobs': -1, 'n_neighbors': 18, 'p': 1, 'weights': 'distance'}\n",
      "\n",
      "Printing predicted and actual values:\n",
      " [[0 0]\n",
      " [0 0]\n",
      " [1 1]\n",
      " ...\n",
      " [0 0]\n",
      " [0 0]\n",
      " [0 0]]\n",
      "Confusion Matrix \n",
      " [[2101  100]\n",
      " [ 348  451]]\n",
      "Accuracy Score:  0.8506666666666667\n"
     ]
    },
    {
     "data": {
      "image/png": "[encoded data removed]",
      "text/plain": [
       "<Figure size 432x288 with 1 Axes>"
      ]
     },
     "metadata": {
      "needs_background": "light"
     },
     "output_type": "display_data"
    },
    {
     "name": "stdout",
     "output_type": "stream",
     "text": [
      "AUC: 0.916\n"
     ]
    }
   ],
   "source": [
    "# for parameter tuning leaf_size parameter range was chosen 1 to 100\n",
    "# n_neighbors range was chosen 10 to 100\n",
    "# As it takes a long time for the code to run, for demonstration, the ranges have been reduced.\n",
    "parameter_tuning = {'leaf_size':list(range(1,2)),'n_neighbors': list(range(17,19)),'weights': ['uniform','distance']}\n",
    "\n",
    "from sklearn.model_selection import GridSearchCV\n",
    "knn = KNeighborsClassifier(n_jobs=-1, p=1)\n",
    "gsc = GridSearchCV(estimator=knn, param_grid=parameter_tuning, scoring = 'accuracy', cv=5)\n",
    "model_gsc = gsc.fit(X_train,y_train)\n",
    "print (model_gsc.best_estimator_.get_params())\n",
    "y_pred = list(map(round, model_gsc.best_estimator_.predict(X_test)))\n",
    "arr = np.c_[y_pred, y_test]\n",
    "print('\\nPrinting predicted and actual values:\\n',arr)\n",
    "print('Confusion Matrix \\n',confusion_matrix(y_test, y_pred))\n",
    "print('Accuracy Score: ',accuracy_score(y_test, y_pred))\n",
    "roc(model_gsc.best_estimator_, X_test, y_test);"
   ]
  },
  {
   "cell_type": "code",
   "execution_count": 66,
   "metadata": {},
   "outputs": [
    {
     "data": {
      "image/png": "[encoded data removed]",
      "text/plain": [
       "<Figure size 288x288 with 2 Axes>"
      ]
     },
     "metadata": {
      "needs_background": "light"
     },
     "output_type": "display_data"
    }
   ],
   "source": [
    "confusion_matrix_plot(y_pred, y_test)"
   ]
  },
  {
   "cell_type": "code",
   "execution_count": 67,
   "metadata": {},
   "outputs": [
    {
     "name": "stdout",
     "output_type": "stream",
     "text": [
      "              precision    recall  f1-score   support\n",
      "\n",
      "           0       0.86      0.95      0.90      2201\n",
      "           1       0.82      0.56      0.67       799\n",
      "\n",
      "    accuracy                           0.85      3000\n",
      "   macro avg       0.84      0.76      0.79      3000\n",
      "weighted avg       0.85      0.85      0.84      3000\n",
      "\n"
     ]
    }
   ],
   "source": [
    "print(classification_report(y_test, y_pred))"
   ]
  },
  {
   "cell_type": "code",
   "execution_count": 68,
   "metadata": {},
   "outputs": [
    {
     "name": "stdout",
     "output_type": "stream",
     "text": [
      "{'algorithm': 'auto', 'leaf_size': 1, 'metric': 'minkowski', 'metric_params': None, 'n_jobs': -1, 'n_neighbors': 18, 'p': 1, 'weights': 'distance'}\n",
      "\n",
      "Printing predicted and actual values:\n",
      " [[0 0]\n",
      " [0 0]\n",
      " [1 1]\n",
      " ...\n",
      " [0 0]\n",
      " [0 0]\n",
      " [0 0]]\n",
      "Confusion Matrix \n",
      " [[2101  100]\n",
      " [ 348  451]]\n",
      "Accuracy Score:  0.8506666666666667\n"
     ]
    },
    {
     "data": {
      "image/png": "[encoded data removed]",
      "text/plain": [
       "<Figure size 432x288 with 1 Axes>"
      ]
     },
     "metadata": {
      "needs_background": "light"
     },
     "output_type": "display_data"
    },
    {
     "name": "stdout",
     "output_type": "stream",
     "text": [
      "AUC: 0.916\n"
     ]
    }
   ],
   "source": [
    "model = KNeighborsClassifier(algorithm= 'auto', leaf_size= 1, n_jobs= -1, n_neighbors= 18, p= 1, weights= 'distance')\n",
    "model.fit(X_train, y_train)\n",
    "print(model.get_params())\n",
    "y_pred = list(map(round, model.predict(X_test)))\n",
    "arr = np.c_[y_pred, y_test]\n",
    "print('\\nPrinting predicted and actual values:\\n',arr)\n",
    "print('Confusion Matrix \\n',confusion_matrix(y_test, y_pred))\n",
    "print('Accuracy Score: ',accuracy_score(y_test, y_pred))\n",
    "roc(model, X_test, y_test);"
   ]
  },
  {
   "cell_type": "code",
   "execution_count": 69,
   "metadata": {},
   "outputs": [
    {
     "data": {
      "image/png": "[encoded data removed]",
      "text/plain": [
       "<Figure size 432x288 with 1 Axes>"
      ]
     },
     "metadata": {
      "needs_background": "light"
     },
     "output_type": "display_data"
    }
   ],
   "source": [
    "\n",
    "\n",
    "models = {'lr': model_lr, 'knn':model_gsc.best_estimator_}\n",
    "roc_multi(models, X_test, y_test)"
   ]
  },
  {
   "cell_type": "code",
   "execution_count": null,
   "metadata": {},
   "outputs": [],
   "source": []
  }
 ],
 "metadata": {
  "kernelspec": {
   "display_name": "Python 3",
   "language": "python",
   "name": "python3"
  },
  "language_info": {
   "codemirror_mode": {
    "name": "ipython",
    "version": 3
   },
   "file_extension": ".py",
   "mimetype": "text/x-python",
   "name": "python",
   "nbconvert_exporter": "python",
   "pygments_lexer": "ipython3",
   "version": "3.8.5"
  }
 },
 "nbformat": 4,
 "nbformat_minor": 4
}
